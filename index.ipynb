{
  "cells": [
    {
      "cell_type": "markdown",
      "metadata": {
        "id": "_9BsS1nO_mDH"
      },
      "source": [
        "# AI-Driven Loyalty Program Optimization for Retail Supermarkets in Kenya\n",
        "\n",
        "**Authors:** Sylvia, Clive, Ezekiel, Brenda, Isaiah\n",
        "***"
      ]
    },
    {
      "cell_type": "markdown",
      "metadata": {
        "id": "zN0sCp5A_mDK"
      },
      "source": [
        "## Business Understanding\n",
        "The project aims to improve customer retention, promotional ROI, basket size, and category growth through machine learning. The goal is to transform loyalty programs into dynamic, data-driven systems that deliver personalized rewards and improve customer engagement.\n"
      ]
    },
    {
      "cell_type": "markdown",
      "metadata": {
        "id": "uiUMz9ti_mDL"
      },
      "source": [
        "### Objectives:\n",
        "* Customer segmentation based on purchase behavior\n",
        "* Predict customer churn and estimate lifetime value\n",
        "* Build recommendation engine for personalized promotions\n",
        "* Measure impact on retention, basket size, and promotional ROI"
      ]
    },
    {
      "cell_type": "markdown",
      "metadata": {
        "id": "De75zB4T_mDM"
      },
      "source": [
        "## Data Understanding"
      ]
    },
    {
      "cell_type": "markdown",
      "metadata": {
        "id": "CHC0QIXp_mDM"
      },
      "source": [
        "#### Data Source and Relevance\n",
        "Information about the dataset"
      ]
    },
    {
      "cell_type": "code",
      "execution_count": 3,
      "metadata": {
        "id": "NwD5CYow_mDM"
      },
      "outputs": [],
      "source": [
        "# Importing python libraries\n",
        "import pandas as pd\n",
        "import numpy as np\n",
        "import matplotlib.pyplot as plt\n",
        "import seaborn as sns\n",
        "from sklearn.model_selection import train_test_split, GridSearchCV\n",
        "from sklearn.preprocessing import OneHotEncoder, StandardScaler\n",
        "from sklearn.metrics import accuracy_score, precision_score, recall_score, f1_score, roc_auc_score, confusion_matrix, roc_curve,RocCurveDisplay,classification_report\n",
        "%matplotlib inline\n",
        "\n",
        "# Import classifiers\n",
        "from sklearn.linear_model import LogisticRegression\n",
        "from sklearn.tree import DecisionTreeClassifier\n",
        "from sklearn.ensemble import RandomForestClassifier\n",
        "from sklearn.neighbors import KNeighborsClassifier\n",
        "from sklearn.cluster import KMeans\n",
        "from xgboost import XGBClassifier\n",
        "\n",
        "import warnings\n",
        "warnings.filterwarnings('ignore')"
      ]
    },
    {
      "cell_type": "code",
      "execution_count": 4,
      "metadata": {
        "id": "SU8Z0xZ1_mDN"
      },
      "outputs": [],
      "source": [
        "# importing data from csv and\n",
        "#df=pd.read_csv('')\n",
        "\n",
        "# loading the Dataframe head\n",
        "#df.head()\n",
        "\n",
        "# Loading the tail of dataframe\n",
        "#df.tail()\n",
        "\n",
        "# Check the shape of dataframe\n",
        "#df.shape\n",
        "\n",
        "# dataframe datatype information\n",
        "#df.info()\n",
        "\n",
        "# Statistical summary of numeric features\n",
        "#df.describe()"
      ]
    },
    {
      "cell_type": "markdown",
      "metadata": {
        "id": "lW1t4MLh_mDP"
      },
      "source": [
        "#### Summary of the Variables in the Dataset\n",
        "Describe Features and target variable"
      ]
    },
    {
      "cell_type": "markdown",
      "metadata": {
        "id": "qXV-djy7_mDP"
      },
      "source": [
        "## Data Preparation"
      ]
    },
    {
      "cell_type": "code",
      "source": [
        "# Checking for missing/null values in the dataset\n",
        "#df.isnull().sum()\n",
        "\n",
        "#Checking for duplicates\n",
        "#df.duplicated().value_counts()"
      ],
      "metadata": {
        "id": "mLnwHpjUAMjn"
      },
      "execution_count": 5,
      "outputs": []
    },
    {
      "cell_type": "markdown",
      "metadata": {
        "id": "ixwri8S1_mDQ"
      },
      "source": [
        "## Exploratory Data Analysis (EDA)"
      ]
    },
    {
      "cell_type": "markdown",
      "metadata": {
        "id": "_9S4RQZv_mDP"
      },
      "source": [
        "#### Feature Engineering"
      ]
    },
    {
      "cell_type": "code",
      "source": [],
      "metadata": {
        "id": "7KRN_bNjFmdB"
      },
      "execution_count": 5,
      "outputs": []
    },
    {
      "cell_type": "markdown",
      "metadata": {
        "id": "411Cixh3_mDV"
      },
      "source": [
        "#### Preprocessing"
      ]
    },
    {
      "cell_type": "code",
      "source": [],
      "metadata": {
        "id": "uhLv5hy-C-DT"
      },
      "execution_count": 5,
      "outputs": []
    },
    {
      "cell_type": "markdown",
      "metadata": {
        "id": "1NQuC0Ek_mDW"
      },
      "source": [
        "#### Encoding"
      ]
    },
    {
      "cell_type": "code",
      "source": [],
      "metadata": {
        "id": "shGtSJwDDCa3"
      },
      "execution_count": 5,
      "outputs": []
    },
    {
      "cell_type": "markdown",
      "metadata": {
        "id": "tCWdpyMc_mDX"
      },
      "source": [
        "#### Scaling"
      ]
    },
    {
      "cell_type": "code",
      "source": [],
      "metadata": {
        "id": "cFNsqL9lDDyv"
      },
      "execution_count": 5,
      "outputs": []
    },
    {
      "cell_type": "markdown",
      "source": [
        "##Modeling"
      ],
      "metadata": {
        "id": "_z12UPe_GBzO"
      }
    },
    {
      "cell_type": "code",
      "source": [],
      "metadata": {
        "id": "7Kpe9MDvGGSG"
      },
      "execution_count": 5,
      "outputs": []
    }
  ],
  "metadata": {
    "kernelspec": {
      "display_name": "Python 3 (ipykernel)",
      "language": "python",
      "name": "python3"
    },
    "language_info": {
      "codemirror_mode": {
        "name": "ipython",
        "version": 3
      },
      "file_extension": ".py",
      "mimetype": "text/x-python",
      "name": "python",
      "nbconvert_exporter": "python",
      "pygments_lexer": "ipython3",
      "version": "3.11.7"
    },
    "colab": {
      "provenance": [],
      "collapsed_sections": [
        "_9S4RQZv_mDP",
        "411Cixh3_mDV",
        "1NQuC0Ek_mDW",
        "tCWdpyMc_mDX",
        "_z12UPe_GBzO"
      ]
    }
  },
  "nbformat": 4,
  "nbformat_minor": 0
}